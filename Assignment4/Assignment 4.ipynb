{
 "cells": [
  {
   "cell_type": "markdown",
   "metadata": {},
   "source": [
    "# ENSF 519.01 Applied Data Science \n",
    "**Assignment 4** - 100 marks\n",
    "\n",
    "**Due:** November 15, 04.00 pm.\n",
    "\n",
    "\n",
    "**IMPORTANT NOTE: each task must be implemented as asked, even if there are other easier or better solutions.**\n",
    "\n",
    "**How to deliver:**\n",
    "Edit this file and write your solutions in sections specified with `# Your solution`. Test your code and when you are done, submit this notebook as an `.ipynb` file to D2L dropbox. \n",
    "\n"
   ]
  },
  {
   "cell_type": "markdown",
   "metadata": {},
   "source": [
    "## Problem 1: Clustering and Classification (45 points)\n",
    "\n",
    "### Part A. Clustering\n",
    "In this problem, we apply two clustering algorithms on MNIST handwritten digits data and compare them using ARI score. Here you can see how image data are usually represented for machine learning tasks. Complete the code below to load the MNIST data, feel free to add more code (plotting graphs or printing values) to explore the dataset. In the end, since many algorithms work better or can work only with normalized data, use `scale` method in scikit learn to normalize the pixel values."
   ]
  },
  {
   "cell_type": "code",
   "execution_count": 17,
   "metadata": {},
   "outputs": [
    {
     "name": "stdout",
     "output_type": "stream",
     "text": [
      "(n_data, number of features) = (1797, 64)\n"
     ]
    },
    {
     "data": {
      "text/plain": [
       "array([ 0.,  5., 12., 13., 16., 16.,  2.,  0.,  0., 11., 16., 15.,  8.,\n",
       "        4.,  0.,  0.,  0.,  8., 14., 11.,  1.,  0.,  0.,  0.,  0.,  8.,\n",
       "       16., 16., 14.,  0.,  0.,  0.,  0.,  1.,  6.,  6., 16.,  0.,  0.,\n",
       "        0.,  0.,  0.,  0.,  5., 16.,  3.,  0.,  0.,  0.,  1.,  5., 15.,\n",
       "       13.,  0.,  0.,  0.,  0.,  4., 15., 16.,  2.,  0.,  0.,  0.])"
      ]
     },
     "metadata": {},
     "output_type": "display_data"
    },
    {
     "data": {
      "text/plain": [
       "5"
      ]
     },
     "metadata": {},
     "output_type": "display_data"
    },
    {
     "data": {
      "text/plain": [
       "array([ 0.        ,  5.17802955,  1.42951714,  0.27407152,  0.96867267,\n",
       "        1.80378259,  0.19180703, -0.12502292, -0.05907756,  2.81857826,\n",
       "        1.03648545,  0.75962245, -0.4767178 , -0.69007742, -0.51499146,\n",
       "       -0.13043338, -0.04462507,  1.5099244 ,  0.72010829,  0.69077777,\n",
       "       -0.98767917, -1.25998248, -0.54880546, -0.11422184, -0.03337973,\n",
       "        1.7580838 ,  1.11605583,  1.22058589,  0.66221904, -1.28625035,\n",
       "       -0.62889588, -0.04723238,  0.        , -0.38496671, -0.263679  ,\n",
       "       -0.49018022,  0.96064411, -1.48986148, -0.82269451,  0.        ,\n",
       "       -0.06134367, -0.5312841 , -1.05283456, -0.34600957,  1.33078862,\n",
       "       -0.91966262, -0.79827225, -0.08874162, -0.03543326,  0.16927197,\n",
       "       -0.44426532,  1.04502442,  0.67610628, -1.45261152, -0.75743581,\n",
       "       -0.20978513, -0.02359646,  3.98338224,  1.85087135,  0.89424571,\n",
       "       -1.98864237, -1.14664746, -0.5056698 , -0.19600752])"
      ]
     },
     "metadata": {},
     "output_type": "display_data"
    },
    {
     "data": {
      "text/plain": [
       "5"
      ]
     },
     "metadata": {},
     "output_type": "display_data"
    },
    {
     "data": {
      "image/png": "[encoded data removed]",
      "text/plain": [
       "<Figure size 432x288 with 1 Axes>"
      ]
     },
     "metadata": {
      "needs_background": "light"
     },
     "output_type": "display_data"
    }
   ],
   "source": [
    "import numpy as np\n",
    "import matplotlib.pyplot as plt\n",
    "%matplotlib inline\n",
    "\n",
    "from sklearn import metrics\n",
    "from sklearn.cluster import KMeans\n",
    "from sklearn.datasets import load_digits\n",
    "from sklearn.preprocessing import scale\n",
    "\n",
    "digits = load_digits()\n",
    "data = digits['data']  # Your solution\n",
    "labels = digits['target']\n",
    "\n",
    "print('(n_data, number of features) =', data.shape)  # = (1797, 64)\n",
    "# There are 64 features per sample, since each sample is a 8*8 image.\n",
    "\n",
    "# Let's see a sample:\n",
    "display(data[15], labels[15])\n",
    "plt.imshow(data[15].reshape((8, 8)));  # See that nice little 5 there?\n",
    "\n",
    "# Scale and normalize the feature values using:\n",
    "# https://scikit-learn.org/stable/modules/generated/sklearn.preprocessing.scale.html\n",
    "\n",
    "data = scale(data)\n",
    "display(data[15], labels[15])"
   ]
  },
  {
   "cell_type": "markdown",
   "metadata": {},
   "source": [
    "Using the pixel values as the features, apply k-means clustering to cluster the digits together. Try K-means with number of clusters = 10, use ARI score to compare KMeans clustereing results with the ground truth."
   ]
  },
  {
   "cell_type": "code",
   "execution_count": 41,
   "metadata": {},
   "outputs": [
    {
     "name": "stdout",
     "output_type": "stream",
     "text": [
      "K-Means ARI score = 0.46914\n"
     ]
    }
   ],
   "source": [
    "# Your solution\n",
    "kmeans = KMeans(n_clusters=10)\n",
    "kmeans.fit(data)\n",
    "prediction = kmeans.labels_\n",
    "ARI_score = metrics.adjusted_rand_score(prediction, labels)\n",
    "\n",
    "print(f'K-Means ARI score = {ARI_score:.5}')"
   ]
  },
  {
   "cell_type": "markdown",
   "metadata": {},
   "source": [
    "Apply agglomerative clustering technique on the data. Again set cut-off number of clusters to 10. Try 4 different values of linkage (ward, complete, average, and single) and 3 distance calculation modes (affinity): euclidean, L1, and L2. Report ARI score wrt ground truth for each method. Since ward linkage can only work with euclidean distance mode, skip L1 and L2 when using ward."
   ]
  },
  {
   "cell_type": "code",
   "execution_count": 50,
   "metadata": {},
   "outputs": [
    {
     "name": "stdout",
     "output_type": "stream",
     "text": [
      "AHC Affinity=euclidean Linkage mode=ward     ARI score = 0.66435\n",
      "AHC Affinity=euclidean Linkage mode=complete ARI score = 0.00029815\n",
      "AHC Affinity=l1        Linkage mode=complete ARI score = 0.1921\n",
      "AHC Affinity=l2        Linkage mode=complete ARI score = 0.00029815\n",
      "AHC Affinity=euclidean Linkage mode=average  ARI score = 2.345e-05\n",
      "AHC Affinity=l1        Linkage mode=average  ARI score = 0.00053779\n",
      "AHC Affinity=l2        Linkage mode=average  ARI score = 2.345e-05\n",
      "AHC Affinity=euclidean Linkage mode=single   ARI score = 9.454e-06\n",
      "AHC Affinity=l1        Linkage mode=single   ARI score = 6.6739e-06\n",
      "AHC Affinity=l2        Linkage mode=single   ARI score = 9.454e-06\n"
     ]
    }
   ],
   "source": [
    "from sklearn.cluster import AgglomerativeClustering\n",
    "\n",
    "for linkage_mode in ('ward', 'complete', 'average', 'single'):\n",
    "    for affinity in ('euclidean', 'l1', 'l2'):\n",
    "        # Your solution\n",
    "        if(linkage_mode=='ward' and (affinity=='l1' or affinity=='l2')):\n",
    "            continue\n",
    "        \n",
    "        prediction = AgglomerativeClustering(n_clusters=10, linkage=linkage_mode, affinity=affinity).fit_predict(data)\n",
    "        ARI_score = metrics.adjusted_rand_score(prediction, labels)\n",
    "        \n",
    "        print(f'AHC Affinity={affinity:9} Linkage mode={linkage_mode:8} ARI score = {ARI_score:.5}')"
   ]
  },
  {
   "cell_type": "markdown",
   "metadata": {},
   "source": [
    "### Part B. Multiclass Classification\n",
    "\n",
    "Now we are going to use the same dataset but for a different task, which is multi-class classification. The 64 pixel values will be the features and the labels are the actual written digit. Train a Linear SVC classifier and compare it with an ensemble of LogisticRegression classifiers. SVC and Logistic Regression are binary classifiers at their cores, but their scikit-learn implementation automatically handles the one-versus-rest scheme for you. For logistic regression try both 'ovr' (one-versus-rest) and 'multinomial' for multiclass handling method. Keep the scores for all four classification methods and draw a box plot in the end to compare them.\n"
   ]
  },
  {
   "cell_type": "code",
   "execution_count": null,
   "metadata": {},
   "outputs": [
    {
     "name": "stderr",
     "output_type": "stream",
     "text": [
      "/home/sadat/anaconda3/lib/python3.7/site-packages/sklearn/svm/base.py:929: ConvergenceWarning: Liblinear failed to converge, increase the number of iterations.\n",
      "  \"the number of iterations.\", ConvergenceWarning)\n",
      "/home/sadat/anaconda3/lib/python3.7/site-packages/sklearn/linear_model/logistic.py:947: ConvergenceWarning: lbfgs failed to converge. Increase the number of iterations.\n",
      "  \"of iterations.\", ConvergenceWarning)\n",
      "/home/sadat/anaconda3/lib/python3.7/site-packages/sklearn/svm/base.py:929: ConvergenceWarning: Liblinear failed to converge, increase the number of iterations.\n",
      "  \"the number of iterations.\", ConvergenceWarning)\n",
      "/home/sadat/anaconda3/lib/python3.7/site-packages/sklearn/svm/base.py:929: ConvergenceWarning: Liblinear failed to converge, increase the number of iterations.\n",
      "  \"the number of iterations.\", ConvergenceWarning)\n",
      "/home/sadat/anaconda3/lib/python3.7/site-packages/sklearn/svm/base.py:929: ConvergenceWarning: Liblinear failed to converge, increase the number of iterations.\n",
      "  \"the number of iterations.\", ConvergenceWarning)\n",
      "/home/sadat/anaconda3/lib/python3.7/site-packages/sklearn/svm/base.py:929: ConvergenceWarning: Liblinear failed to converge, increase the number of iterations.\n",
      "  \"the number of iterations.\", ConvergenceWarning)\n",
      "/home/sadat/anaconda3/lib/python3.7/site-packages/sklearn/svm/base.py:929: ConvergenceWarning: Liblinear failed to converge, increase the number of iterations.\n",
      "  \"the number of iterations.\", ConvergenceWarning)\n",
      "/home/sadat/anaconda3/lib/python3.7/site-packages/sklearn/svm/base.py:929: ConvergenceWarning: Liblinear failed to converge, increase the number of iterations.\n",
      "  \"the number of iterations.\", ConvergenceWarning)\n",
      "/home/sadat/anaconda3/lib/python3.7/site-packages/sklearn/svm/base.py:929: ConvergenceWarning: Liblinear failed to converge, increase the number of iterations.\n",
      "  \"the number of iterations.\", ConvergenceWarning)\n",
      "/home/sadat/anaconda3/lib/python3.7/site-packages/sklearn/svm/base.py:929: ConvergenceWarning: Liblinear failed to converge, increase the number of iterations.\n",
      "  \"the number of iterations.\", ConvergenceWarning)\n",
      "/home/sadat/anaconda3/lib/python3.7/site-packages/sklearn/svm/base.py:929: ConvergenceWarning: Liblinear failed to converge, increase the number of iterations.\n",
      "  \"the number of iterations.\", ConvergenceWarning)\n",
      "/home/sadat/anaconda3/lib/python3.7/site-packages/sklearn/svm/base.py:929: ConvergenceWarning: Liblinear failed to converge, increase the number of iterations.\n",
      "  \"the number of iterations.\", ConvergenceWarning)\n",
      "/home/sadat/anaconda3/lib/python3.7/site-packages/sklearn/svm/base.py:929: ConvergenceWarning: Liblinear failed to converge, increase the number of iterations.\n",
      "  \"the number of iterations.\", ConvergenceWarning)\n",
      "/home/sadat/anaconda3/lib/python3.7/site-packages/sklearn/svm/base.py:929: ConvergenceWarning: Liblinear failed to converge, increase the number of iterations.\n",
      "  \"the number of iterations.\", ConvergenceWarning)\n",
      "/home/sadat/anaconda3/lib/python3.7/site-packages/sklearn/svm/base.py:929: ConvergenceWarning: Liblinear failed to converge, increase the number of iterations.\n",
      "  \"the number of iterations.\", ConvergenceWarning)\n",
      "/home/sadat/anaconda3/lib/python3.7/site-packages/sklearn/svm/base.py:929: ConvergenceWarning: Liblinear failed to converge, increase the number of iterations.\n",
      "  \"the number of iterations.\", ConvergenceWarning)\n",
      "/home/sadat/anaconda3/lib/python3.7/site-packages/sklearn/svm/base.py:929: ConvergenceWarning: Liblinear failed to converge, increase the number of iterations.\n",
      "  \"the number of iterations.\", ConvergenceWarning)\n",
      "/home/sadat/anaconda3/lib/python3.7/site-packages/sklearn/svm/base.py:929: ConvergenceWarning: Liblinear failed to converge, increase the number of iterations.\n",
      "  \"the number of iterations.\", ConvergenceWarning)\n",
      "/home/sadat/anaconda3/lib/python3.7/site-packages/sklearn/svm/base.py:929: ConvergenceWarning: Liblinear failed to converge, increase the number of iterations.\n",
      "  \"the number of iterations.\", ConvergenceWarning)\n",
      "/home/sadat/anaconda3/lib/python3.7/site-packages/sklearn/linear_model/logistic.py:947: ConvergenceWarning: lbfgs failed to converge. Increase the number of iterations.\n",
      "  \"of iterations.\", ConvergenceWarning)\n",
      "/home/sadat/anaconda3/lib/python3.7/site-packages/sklearn/svm/base.py:929: ConvergenceWarning: Liblinear failed to converge, increase the number of iterations.\n",
      "  \"the number of iterations.\", ConvergenceWarning)\n",
      "/home/sadat/anaconda3/lib/python3.7/site-packages/sklearn/linear_model/logistic.py:947: ConvergenceWarning: lbfgs failed to converge. Increase the number of iterations.\n",
      "  \"of iterations.\", ConvergenceWarning)\n",
      "/home/sadat/anaconda3/lib/python3.7/site-packages/sklearn/svm/base.py:929: ConvergenceWarning: Liblinear failed to converge, increase the number of iterations.\n",
      "  \"the number of iterations.\", ConvergenceWarning)\n",
      "/home/sadat/anaconda3/lib/python3.7/site-packages/sklearn/linear_model/logistic.py:947: ConvergenceWarning: lbfgs failed to converge. Increase the number of iterations.\n",
      "  \"of iterations.\", ConvergenceWarning)\n",
      "/home/sadat/anaconda3/lib/python3.7/site-packages/sklearn/svm/base.py:929: ConvergenceWarning: Liblinear failed to converge, increase the number of iterations.\n",
      "  \"the number of iterations.\", ConvergenceWarning)\n",
      "/home/sadat/anaconda3/lib/python3.7/site-packages/sklearn/svm/base.py:929: ConvergenceWarning: Liblinear failed to converge, increase the number of iterations.\n",
      "  \"the number of iterations.\", ConvergenceWarning)\n",
      "/home/sadat/anaconda3/lib/python3.7/site-packages/sklearn/svm/base.py:929: ConvergenceWarning: Liblinear failed to converge, increase the number of iterations.\n",
      "  \"the number of iterations.\", ConvergenceWarning)\n"
     ]
    }
   ],
   "source": [
    "from sklearn.model_selection import train_test_split\n",
    "from sklearn.ensemble import VotingClassifier\n",
    "from sklearn.svm import LinearSVC\n",
    "from sklearn.linear_model import LogisticRegression\n",
    "\n",
    "\n",
    "scores = {name: [] for name in ('SVC', 'LR ovr', 'LR mn')}\n",
    "for seed in np.arange(1, 30+1):\n",
    "    X_train, X_test, y_train, y_test = train_test_split(data, labels, random_state=seed)\n",
    "    \n",
    "    # Your solution\n",
    "    svc_score = LinearSVC().fit(X_train, y_train).score(X_test, y_test)\n",
    "    scores['SVC'].append(svc_score)\n",
    "    lr_ovr_score = LogisticRegression(solver='liblinear', multi_class='ovr').fit(X_train, y_train).score(X_test, y_test)\n",
    "    scores['LR ovr'].append(lr_ovr_score)\n",
    "    lr_mn_score = LogisticRegression(solver=\"lbfgs\", multi_class='multinomial').fit(X_train, y_train).score(X_test, y_test)\n",
    "    scores['LR mn'].append(lr_mn_score)\n",
    "    \n",
    "scores_labels = ['SVC', 'LR ovr', 'LR mn']\n",
    "scores_data = [scores['SVC'], scores['LR ovr'], scores['LR mn']]\n",
    "\n",
    "fig1, boxplot_ax = plt.subplots()\n",
    "boxplot_ax.boxplot(scores_data, labels=scores_labels)\n",
    "boxplot_ax.set_xlabel(\"Classifier\")\n",
    "boxplot_ax.set_ylabel(\"Score\")\n",
    "plt.show()\n"
   ]
  },
  {
   "cell_type": "markdown",
   "metadata": {},
   "source": [
    "## Problem 2: Dimension reduction for feature selection (25 points)\n",
    "\n",
    "In the first part of this problem, we compare the dimension reduction ability of PCA and linear regression models.\n",
    "\n",
    "To use linear regression model as a dimension reduction technique, we fit the model and pick the most informative features (highest absolute coefficients) and ignore all other ones. \n",
    "\n",
    "Our dataset is \"LLVMAll.csv\", which records some performance measurements of a LLVM Compiler. See https://zenodo.org/record/322483#.Xbmov0VKjOT for more details.\n",
    "\n",
    "- Read the dataset and apply proper normalization on each row. Note that you only apply it on the feature columns and leave the target values (performance) untouched.\n",
    "- Apply Linear Regression with default paramters to pick the two most important features (use `top_k_indices`).\n",
    "- Fit a PCA model (with default paramters) on the original training set to find the first two principal components.\n",
    "- Now for comparison, build 3 Linear Regression models only differing on their input/output data: \n",
    "    1. use the original training and test sets\n",
    "    2. use the train and test set given by linear regression selected features\n",
    "    3. use the PCA transformed data\n",
    "- Repeat the steps above 30 times with random_state range [1..30] for train/test splitter and calculate the test scores in the end. Note that for each run a new PCA and Linear regression should be applied (i.e., do not transform new data based on the old fitted models)\n",
    "- Report the median scores over 30 runs for each of the three models"
   ]
  },
  {
   "cell_type": "code",
   "execution_count": null,
   "metadata": {},
   "outputs": [],
   "source": [
    "import numpy as np\n",
    "from sklearn.decomposition import PCA \n",
    "from sklearn.model_selection import train_test_split\n",
    "from sklearn.linear_model import LinearRegression\n",
    "from sklearn.preprocessing import normalize\n",
    "import pandas as pd\n",
    "from IPython.display import Markdown\n",
    "%matplotlib inline\n",
    "\n",
    "\n",
    "def read_and_normalize(file_name):\n",
    "    # Your solution\n",
    "    return features, labels\n",
    "\n",
    "\n",
    "def top_k_indices(l, k=1):\n",
    "    \"\"\"\n",
    "    Return indices of top k elements of l.\n",
    "    \n",
    "    Example:\n",
    "    for index in top_k_indices([5, 0, 0, 4, 10, 1], k=2):\n",
    "        print(index)\n",
    "        \n",
    "    result: 4 0\n",
    "    \"\"\"\n",
    "    # Your solution\n",
    "    return ...\n",
    "\n",
    "for index in top_k_indices([5, 0, 0, 4, 10, 1], k=2):\n",
    "    print(index, end=' ')"
   ]
  },
  {
   "cell_type": "code",
   "execution_count": null,
   "metadata": {},
   "outputs": [],
   "source": [
    "features, labels = read_and_normalize('LLVMAll.csv')\n",
    "\n",
    "scores = {name: [] for name in ('original', 'pca', 'lr')}\n",
    "for seed in np.arange(1, 30+1):\n",
    "    X_train, X_test, y_train, y_test = train_test_split(features, labels, random_state=seed)\n",
    "    \n",
    "    # Your solution\n",
    "    \n",
    "median_original, median_pca, median_lr = ..., ..., ...\n",
    "\n",
    "display(Markdown(\\\n",
    "f'|[]()|Median scores|\\n{\"|---\"*2}|\\n'\n",
    "f'|**Original**|{median_original:.4}|\\n'\n",
    "f'|**PCA**|{median_pca:.4}|\\n'\n",
    "f'|**LR**|{median_lr:.4}|\\n'))"
   ]
  },
  {
   "cell_type": "markdown",
   "metadata": {},
   "source": [
    "Explain your observation with respect to relative performance of PCA and linear regression for dimension reduction and why this has happened in a few sentences."
   ]
  },
  {
   "cell_type": "markdown",
   "metadata": {},
   "source": [
    "**Edit this cell to answer**"
   ]
  },
  {
   "cell_type": "markdown",
   "metadata": {},
   "source": [
    "## Problem 3: Local vs. Global Prediction (30 points)\n",
    "\n",
    "In many situations, your training dataset is very large to include as many observations as possible, which is typically a good thing. For instance, a complex prediction model for image captioning works best if the learning dataset is massive and rich. However, if you are using a simple model (like a linear regression) for any reason (e.g., speed, interpretability, etc.) one caveat of very large datasets is that they might actually become very far off from your test set.\n",
    "For instance, assume you have to predict online sales for a particular book. But your training set is the entire Amazon’s historical sales records. Obviously a simple linear model will not work well, trying to fit a line that predicts sales of everything, from books, to grocery, to toys, etc.\n",
    "\n",
    "One simple solution could be training your model only on a portion of the training set that is more similar to the data you're interested in. For instance, in the above example, only train on the book records. \n",
    "\n",
    "In this part, we want to evaluate this idea automatically, by first clustering the training dataset and then fitting the model only on the closets cluster to the test data.\n",
    "\n",
    "\n",
    "- Read data from the csv dataset `filename='CPU_Performance.csv'`. The columns in the dataset are:\n",
    "    \n",
    "    - MYCT: machine cycle time in nanoseconds (integer) \n",
    "    - MMIN: minimum main memory in kilobytes (integer) \n",
    "    - MMAX: maximum main memory in kilobytes (integer) \n",
    "    - CACH: cache memory in kilobytes (integer) \n",
    "    - CHMIN: minimum channels in units (integer) \n",
    "    - CHMAX: maximum channels in units (integer) \n",
    "    - PRP: published relative performance (integer) \n",
    "    - ERP: estimated relative performance from the original article (integer)\n",
    "    \n",
    "    Use the last column (ERP) as the target and the others as features.\n",
    "\n",
    "- Take 80% of data as train and 20% as test using train_test_split with `random_state=0`\n",
    "- Build a linear SVM model and report its mean squared error on the test data\n",
    "- Cluster the training set to multiple clusters using Kmeans (K from 2 to 5 inclusive and `random_state=0`)\n",
    "- Find the most similar cluster to the test set. To do this find the cluster that most of the the test data fall into, if they are predicted using the cluster model.\n",
    "- Build a local linear svm model where you use only the closets cluster as your train dataset (all other setups unchanged)"
   ]
  },
  {
   "cell_type": "code",
   "execution_count": null,
   "metadata": {},
   "outputs": [],
   "source": [
    "import pandas as pd\n",
    "import numpy as np\n",
    "from sklearn.metrics import mean_squared_error\n",
    "from sklearn.svm import LinearSVR\n",
    "from sklearn.cluster import KMeans\n",
    "from scipy.stats import mode\n",
    "\n",
    "\n",
    "# Your solution\n",
    "# Split the data into traingin and testing sets as described above\n",
    "\n",
    "# Train a LinearSVR model on data and report its score on test set\n",
    "model = ...\n",
    "score = ...\n",
    "print(f'global error={score:.5}')\n",
    "\n",
    "for k in range(2, 5+1):\n",
    "    # Make a kMeans clustrer\n",
    "    kmeans = ...\n",
    "    \n",
    "    # Find the cluster which will contains the majority of test points\n",
    "    closest_cluster_id = ...\n",
    "    \n",
    "    # Create a subset of training and test sets containing only the data that fall into the cluster above\n",
    "    local_X_train, local_y_train = ...\n",
    "    local_X_test, local_y_test = ...\n",
    "    \n",
    "    # Train a LinearSVR model on the local data and report its mean squared error on test set\n",
    "    model = ...\n",
    "    score = ...\n",
    "    print(f'k={k} error={score:.5}')\n",
    "    "
   ]
  },
  {
   "cell_type": "markdown",
   "metadata": {},
   "source": [
    "Did the error go down or up? Do you think it is a good practice or it's getting better (if it did) because some information is leaking from the test set?"
   ]
  }
 ],
 "metadata": {
  "kernelspec": {
   "display_name": "Python 3",
   "language": "python",
   "name": "python3"
  },
  "language_info": {
   "codemirror_mode": {
    "name": "ipython",
    "version": 3
   },
   "file_extension": ".py",
   "mimetype": "text/x-python",
   "name": "python",
   "nbconvert_exporter": "python",
   "pygments_lexer": "ipython3",
   "version": "3.7.3"
  }
 },
 "nbformat": 4,
 "nbformat_minor": 2
}
